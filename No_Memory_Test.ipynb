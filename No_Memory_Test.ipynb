{
  "nbformat": 4,
  "nbformat_minor": 0,
  "metadata": {
    "colab": {
      "provenance": [],
      "mount_file_id": "1nDNxX18A5rmnG0hu-fB2Q3BY110zsY3Y",
      "authorship_tag": "ABX9TyMugpktE0V5wZKGlQ5HN0B3",
      "include_colab_link": true
    },
    "kernelspec": {
      "name": "python3",
      "display_name": "Python 3"
    },
    "language_info": {
      "name": "python"
    }
  },
  "cells": [
    {
      "cell_type": "markdown",
      "metadata": {
        "id": "view-in-github",
        "colab_type": "text"
      },
      "source": [
        "<a href=\"https://colab.research.google.com/github/FredLongo/Demos/blob/main/No_Memory_Test.ipynb\" target=\"_parent\"><img src=\"https://colab.research.google.com/assets/colab-badge.svg\" alt=\"Open In Colab\"/></a>"
      ]
    },
    {
      "cell_type": "code",
      "execution_count": null,
      "metadata": {
        "id": "AILyeOpAhiG8"
      },
      "outputs": [],
      "source": [
        "!pip install openai > /dev/null 2>&1\n",
        "!pip install langchain  > /dev/null 2>&1\n",
        "!pip install langchain_community> /dev/null 2>&1\n",
        "!pip install -U langchain-openai> /dev/null 2>&1"
      ]
    },
    {
      "cell_type": "code",
      "source": [
        "# Load librarys and classes\n",
        "import openai\n",
        "import os\n",
        "from langchain.llms import OpenAI\n",
        "from langchain_openai import ChatOpenAI\n",
        "from langchain.chains import ConversationChain        #Allows for conversation between Human and AI\n",
        "from langchain.memory import ConversationBufferMemory # For memory classes"
      ],
      "metadata": {
        "id": "hwJLGDXo5NEj"
      },
      "execution_count": null,
      "outputs": []
    },
    {
      "cell_type": "code",
      "source": [
        "# Get API Keys\n",
        "from google.colab import userdata\n",
        "os.environ['OPENAI_API_KEY'] = userdata.get('LangChainKeyOpenAI')\n",
        "openai.api_key = os.getenv('OPENAI_API_KEY')"
      ],
      "metadata": {
        "id": "soizu_dR5TQe"
      },
      "execution_count": null,
      "outputs": []
    },
    {
      "cell_type": "code",
      "source": [
        "#  Create my Objects\n",
        "\n",
        "# Create a llm to use\n",
        "llm = ChatOpenAI()    # Instasiate your LLM model"
      ],
      "metadata": {
        "id": "PIjNLjU7uQ-p"
      },
      "execution_count": null,
      "outputs": []
    },
    {
      "cell_type": "markdown",
      "source": [
        "##Execution"
      ],
      "metadata": {
        "id": "3Wfi_rPfufQX"
      }
    },
    {
      "cell_type": "code",
      "source": [
        "llm. predict(\"Hi, my name is Tom.\")   # tell it something"
      ],
      "metadata": {
        "id": "ElIieuHVZN39",
        "colab": {
          "base_uri": "https://localhost:8080/",
          "height": 37
        },
        "outputId": "c0e4c24c-a245-473b-a15e-bef6072d40e9"
      },
      "execution_count": null,
      "outputs": [
        {
          "output_type": "execute_result",
          "data": {
            "text/plain": [
              "'Hello Tom, nice to meet you! How can I assist you today?'"
            ],
            "application/vnd.google.colaboratory.intrinsic+json": {
              "type": "string"
            }
          },
          "metadata": {},
          "execution_count": 5
        }
      ]
    },
    {
      "cell_type": "code",
      "source": [
        "llm. predict(\"Whats my name?\")"
      ],
      "metadata": {
        "id": "9vLO1YeVZTpL",
        "colab": {
          "base_uri": "https://localhost:8080/",
          "height": 37
        },
        "outputId": "8e25cee3-ecc5-4123-8182-c136e755ddfb"
      },
      "execution_count": null,
      "outputs": [
        {
          "output_type": "execute_result",
          "data": {
            "text/plain": [
              "\"I'm sorry, I do not know your name as we are communicating through text.\""
            ],
            "application/vnd.google.colaboratory.intrinsic+json": {
              "type": "string"
            }
          },
          "metadata": {},
          "execution_count": 6
        }
      ]
    }
  ]
}