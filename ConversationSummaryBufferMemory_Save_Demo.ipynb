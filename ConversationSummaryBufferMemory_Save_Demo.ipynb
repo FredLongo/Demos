{
  "nbformat": 4,
  "nbformat_minor": 0,
  "metadata": {
    "colab": {
      "provenance": [],
      "mount_file_id": "1nDNxX18A5rmnG0hu-fB2Q3BY110zsY3Y",
      "authorship_tag": "ABX9TyNCew2LWrZfLk75UD2gjzEH",
      "include_colab_link": true
    },
    "kernelspec": {
      "name": "python3",
      "display_name": "Python 3"
    },
    "language_info": {
      "name": "python"
    }
  },
  "cells": [
    {
      "cell_type": "markdown",
      "metadata": {
        "id": "view-in-github",
        "colab_type": "text"
      },
      "source": [
        "<a href=\"https://colab.research.google.com/github/FredLongo/Demos/blob/main/ConversationSummaryBufferMemory_Save_Demo.ipynb\" target=\"_parent\"><img src=\"https://colab.research.google.com/assets/colab-badge.svg\" alt=\"Open In Colab\"/></a>"
      ]
    },
    {
      "cell_type": "markdown",
      "source": [
        "#Conversation Summary Buffer Memory Save Demo\n",
        "\n",
        "---\n",
        "\n",
        "Auther:  Fred Longo\n",
        "\n",
        "---\n",
        "Repo:\n",
        "\n",
        "\n",
        "---\n",
        "\n",
        "\n",
        "This is an example of how to use Conversation Summary Buffer Memory works with LLM.  This object allows you to set a max_token_limit for memory.  This is done thourgh the varable max_token_limit when instanciation your object. But will summarize the treads insted of keeping the original.\n",
        "\n",
        "Adding code to test save and recall\n",
        "\n",
        "\n"
      ],
      "metadata": {
        "id": "_dE6cMr8yStP"
      }
    },
    {
      "cell_type": "code",
      "execution_count": 1,
      "metadata": {
        "id": "AILyeOpAhiG8"
      },
      "outputs": [],
      "source": [
        "!pip install openai > /dev/null 2>&1\n",
        "!pip install langchain  > /dev/null 2>&1\n",
        "!pip install langchain_community> /dev/null 2>&1\n",
        "!pip install -U langchain-openai> /dev/null 2>&1"
      ]
    },
    {
      "cell_type": "code",
      "source": [
        "# Load librarys and classes\n",
        "import openai\n",
        "import os\n",
        "from langchain.llms import OpenAI\n",
        "from langchain_openai import ChatOpenAI\n",
        "from langchain.chains import ConversationChain        #Allows for conversation between Human and AI\n",
        "\n",
        "\n",
        "from langchain.memory import ConversationSummaryBufferMemory\n"
      ],
      "metadata": {
        "id": "hwJLGDXo5NEj"
      },
      "execution_count": 2,
      "outputs": []
    },
    {
      "cell_type": "code",
      "source": [
        "# Get API Keys\n",
        "from google.colab import userdata\n",
        "os.environ['OPENAI_API_KEY'] = userdata.get('LangChainKeyOpenAI')\n",
        "openai.api_key = os.getenv('OPENAI_API_KEY')"
      ],
      "metadata": {
        "id": "soizu_dR5TQe"
      },
      "execution_count": 3,
      "outputs": []
    },
    {
      "cell_type": "code",
      "source": [
        "#  Create my Objects\n",
        "\n",
        "# Create a llm to use\n",
        "llm = ChatOpenAI()    # Instasiate your LLM model\n",
        "\n",
        "\n",
        "# Create a conversationBufferMemory object to hold memory\n",
        "## Note need to declare the model becasue diffrent models count tokens diffrently.\n",
        "memory = ConversationSummaryBufferMemory(llm=llm, max_token_limit=1000)\n",
        "\n",
        "# Create a ConversationChain to wrap around the LLM and add attach the Memory\n",
        "conversation = ConversationChain(llm=llm, memory=memory, verbose=False)"
      ],
      "metadata": {
        "id": "YIU6ueYStZ7h",
        "colab": {
          "base_uri": "https://localhost:8080/"
        },
        "outputId": "e98bb86c-4cce-4156-9930-2a1c2879d822"
      },
      "execution_count": 4,
      "outputs": [
        {
          "output_type": "stream",
          "name": "stderr",
          "text": [
            "/usr/local/lib/python3.10/dist-packages/langchain_core/_api/deprecation.py:139: LangChainDeprecationWarning: The class `ConversationChain` was deprecated in LangChain 0.2.7 and will be removed in 1.0. Use RunnableWithMessageHistory: https://api.python.langchain.com/en/latest/runnables/langchain_core.runnables.history.RunnableWithMessageHistory.html instead.\n",
            "  warn_deprecated(\n"
          ]
        }
      ]
    },
    {
      "cell_type": "markdown",
      "source": [
        "##Execution"
      ],
      "metadata": {
        "id": "rLzugOVnxw5Z"
      }
    },
    {
      "cell_type": "code",
      "source": [
        "# Call on the conversation which holds the model\n",
        "\n",
        "conversation.predict(input = \"Hi, my name is Fred. How are you today?\")"
      ],
      "metadata": {
        "id": "9vLO1YeVZTpL",
        "colab": {
          "base_uri": "https://localhost:8080/",
          "height": 37
        },
        "outputId": "2899f505-616d-4dbd-a0d1-d38c1c6b2338"
      },
      "execution_count": 5,
      "outputs": [
        {
          "output_type": "execute_result",
          "data": {
            "text/plain": [
              "\"Hello Fred! I'm doing well, thank you for asking. How can I assist you today?\""
            ],
            "application/vnd.google.colaboratory.intrinsic+json": {
              "type": "string"
            }
          },
          "metadata": {},
          "execution_count": 5
        }
      ]
    },
    {
      "cell_type": "code",
      "source": [
        "conversation.predict(input = \"So what is my name?\")"
      ],
      "metadata": {
        "colab": {
          "base_uri": "https://localhost:8080/",
          "height": 37
        },
        "id": "QyXRhGkHyMka",
        "outputId": "f5bcc71c-4604-4442-c943-2d36adfdf1ed"
      },
      "execution_count": 6,
      "outputs": [
        {
          "output_type": "execute_result",
          "data": {
            "text/plain": [
              "'Your name is Fred.'"
            ],
            "application/vnd.google.colaboratory.intrinsic+json": {
              "type": "string"
            }
          },
          "metadata": {},
          "execution_count": 6
        }
      ]
    },
    {
      "cell_type": "code",
      "source": [
        "conversation.predict(input = \"How much wood can a woodchuck chuck if a woodchuck could chuck wood?\")"
      ],
      "metadata": {
        "colab": {
          "base_uri": "https://localhost:8080/",
          "height": 37
        },
        "id": "4yRC_Kb-6cyl",
        "outputId": "1cf0ba83-eff1-4cb7-edaf-c8323c5f05a9"
      },
      "execution_count": 7,
      "outputs": [
        {
          "output_type": "execute_result",
          "data": {
            "text/plain": [
              "\"Ah, that's a fun tongue twister! A woodchuck can chuck approximately 700 pounds of wood, according to a study by wildlife biologist Richard Thomas. So, a woodchuck can chuck quite a lot of wood if it could chuck wood!\""
            ],
            "application/vnd.google.colaboratory.intrinsic+json": {
              "type": "string"
            }
          },
          "metadata": {},
          "execution_count": 7
        }
      ]
    },
    {
      "cell_type": "code",
      "source": [
        "# Memory is stored to the memory object which you still have access to.\n",
        "memory.moving_summary_buffer"
      ],
      "metadata": {
        "colab": {
          "base_uri": "https://localhost:8080/",
          "height": 37
        },
        "id": "RuoHvYEMzdo8",
        "outputId": "850eb6e0-797e-4ab3-afc9-983b574a4033"
      },
      "execution_count": 14,
      "outputs": [
        {
          "output_type": "execute_result",
          "data": {
            "text/plain": [
              "''"
            ],
            "application/vnd.google.colaboratory.intrinsic+json": {
              "type": "string"
            }
          },
          "metadata": {},
          "execution_count": 14
        }
      ]
    },
    {
      "cell_type": "code",
      "source": [
        "# Memory is stored to the memory object which you still have access to.\n",
        "memory.buffer"
      ],
      "metadata": {
        "colab": {
          "base_uri": "https://localhost:8080/",
          "height": 55
        },
        "outputId": "56b8468c-8912-4318-c649-59103023d3a1",
        "id": "ASio0-2W9wvA"
      },
      "execution_count": 9,
      "outputs": [
        {
          "output_type": "execute_result",
          "data": {
            "text/plain": [
              "\"Human: Hi, my name is Fred. How are you today?\\nAI: Hello Fred! I'm doing well, thank you for asking. How can I assist you today?\\nHuman: So what is my name?\\nAI: Your name is Fred.\\nHuman: How much wood can a woodchuck chuck if a woodchuck could chuck wood?\\nAI: Ah, that's a fun tongue twister! A woodchuck can chuck approximately 700 pounds of wood, according to a study by wildlife biologist Richard Thomas. So, a woodchuck can chuck quite a lot of wood if it could chuck wood!\""
            ],
            "application/vnd.google.colaboratory.intrinsic+json": {
              "type": "string"
            }
          },
          "metadata": {},
          "execution_count": 9
        }
      ]
    },
    {
      "cell_type": "code",
      "source": [
        "conversation.predict(input = \"List all the presidents of the USA and the years they served?\")"
      ],
      "metadata": {
        "colab": {
          "base_uri": "https://localhost:8080/",
          "height": 94
        },
        "id": "4k3Wx1dq_pH4",
        "outputId": "5c30981f-797d-4ee2-82ee-73960f6a5661"
      },
      "execution_count": 24,
      "outputs": [
        {
          "output_type": "execute_result",
          "data": {
            "text/plain": [
              "'Sure! Here is a list of all the presidents of the USA and the years they served:\\n\\n1. George Washington (1789-1797)\\n2. John Adams (1797-1801)\\n3. Thomas Jefferson (1801-1809)\\n4. James Madison (1809-1817)\\n5. James Monroe (1817-1825)\\n6. John Quincy Adams (1825-1829)\\n7. Andrew Jackson (1829-1837)\\n8. Martin Van Buren (1837-1841)\\n9. William Henry Harrison (1841)\\n10. John Tyler (1841-1845)\\n11. James K. Polk (1845-1849)\\n12. Zachary Taylor (1849-1850)\\n13. Millard Fillmore (1850-1853)\\n14. Franklin Pierce (1853-1857)\\n15. James Buchanan (1857-1861)\\n16. Abraham Lincoln (1861-1865)\\n17. Andrew Johnson (1865-1869)\\n18. Ulysses S. Grant (1869-1877)\\n19. Rutherford B. Hayes (1877-1881)\\n20. James A. Garfield (1881)\\n21. Chester A. Arthur (1881-1885)\\n22. Grover Cleveland (1885-1889)\\n23. Benjamin Harrison (1889-1893)\\n24. Grover Cleveland (1893-1897)\\n25. William McKinley (1897-1901)\\n26. Theodore Roosevelt (1901-1909)\\n27. William Howard Taft (1909-1913)\\n28. Woodrow Wilson (1913-1921)\\n29. Warren G. Harding (1921-1923)\\n30. Calvin Coolidge (1923-1929)\\n31. Herbert Hoover (1929-1933)\\n32. Franklin D. Roosevelt (1933-1945)\\n33. Harry S. Truman (1945-1953)\\n34. Dwight D. Eisenhower (1953-1961)\\n35. John F. Kennedy (1961-1963)\\n36. Lyndon B. Johnson (1963-1969)\\n37. Richard Nixon (1969-1974)\\n38. Gerald Ford (1974-1977)\\n39. Jimmy Carter (1977-1981)\\n40. Ronald Reagan (1981-1989)\\n41. George H. W. Bush (1989-1993)\\n42. Bill Clinton (1993-2001)\\n43. George W. Bush (2001-2009)\\n44. Barack Obama (2009-2017)\\n45. Donald Trump (2017-2021)\\n46. Joe Biden (2021-present)'"
            ],
            "application/vnd.google.colaboratory.intrinsic+json": {
              "type": "string"
            }
          },
          "metadata": {},
          "execution_count": 24
        }
      ]
    },
    {
      "cell_type": "code",
      "source": [
        "conversation.predict(input = \"Let me tell you about myself.  I have a sister named Rosie,  a father named Al.  My mom is Mariea.  My Dog is Lupo. My wife is Jill.  My School is Kent State University.  I have a black honda.  I also ride a motorcycle it is a Harley Davidson\")"
      ],
      "metadata": {
        "colab": {
          "base_uri": "https://localhost:8080/",
          "height": 37
        },
        "id": "j_mxojC7AaFK",
        "outputId": "1b3caeda-edd1-43dc-9c11-bb9ffe74c352"
      },
      "execution_count": 11,
      "outputs": [
        {
          "output_type": "execute_result",
          "data": {
            "text/plain": [
              "\"Thank you for sharing that information with me, Fred! It's great to learn more about you and your family. If you have any more details you'd like to share or if you have any questions, feel free to let me know!\""
            ],
            "application/vnd.google.colaboratory.intrinsic+json": {
              "type": "string"
            }
          },
          "metadata": {},
          "execution_count": 11
        }
      ]
    },
    {
      "cell_type": "code",
      "source": [
        "memory.moving_summary_buffer"
      ],
      "metadata": {
        "colab": {
          "base_uri": "https://localhost:8080/",
          "height": 37
        },
        "id": "lUU9I1w_DbBM",
        "outputId": "a5eeaaf6-6573-4d0f-a84d-8790ee1ae480"
      },
      "execution_count": 12,
      "outputs": [
        {
          "output_type": "execute_result",
          "data": {
            "text/plain": [
              "''"
            ],
            "application/vnd.google.colaboratory.intrinsic+json": {
              "type": "string"
            }
          },
          "metadata": {},
          "execution_count": 12
        }
      ]
    },
    {
      "cell_type": "code",
      "source": [
        "m1 = memory.load_memory_variables({})"
      ],
      "metadata": {
        "id": "RUmelm49iYa0"
      },
      "execution_count": 19,
      "outputs": []
    },
    {
      "cell_type": "code",
      "source": [
        "memory.clear()"
      ],
      "metadata": {
        "id": "WSGJDJ3diYP8"
      },
      "execution_count": 27,
      "outputs": []
    },
    {
      "cell_type": "code",
      "source": [
        "memory.buffer"
      ],
      "metadata": {
        "colab": {
          "base_uri": "https://localhost:8080/",
          "height": 94
        },
        "id": "0AxrPh8ziYMs",
        "outputId": "1ad467ae-b2f9-4f2d-d6d7-1d5229afcd3f"
      },
      "execution_count": 25,
      "outputs": [
        {
          "output_type": "execute_result",
          "data": {
            "text/plain": [
              "'Human: List all the presidents of the USA and the years they served?\\nAI: Sure! Here is a list of all the presidents of the USA and the years they served:\\n\\n1. George Washington (1789-1797)\\n2. John Adams (1797-1801)\\n3. Thomas Jefferson (1801-1809)\\n4. James Madison (1809-1817)\\n5. James Monroe (1817-1825)\\n6. John Quincy Adams (1825-1829)\\n7. Andrew Jackson (1829-1837)\\n8. Martin Van Buren (1837-1841)\\n9. William Henry Harrison (1841)\\n10. John Tyler (1841-1845)\\n11. James K. Polk (1845-1849)\\n12. Zachary Taylor (1849-1850)\\n13. Millard Fillmore (1850-1853)\\n14. Franklin Pierce (1853-1857)\\n15. James Buchanan (1857-1861)\\n16. Abraham Lincoln (1861-1865)\\n17. Andrew Johnson (1865-1869)\\n18. Ulysses S. Grant (1869-1877)\\n19. Rutherford B. Hayes (1877-1881)\\n20. James A. Garfield (1881)\\n21. Chester A. Arthur (1881-1885)\\n22. Grover Cleveland (1885-1889)\\n23. Benjamin Harrison (1889-1893)\\n24. Grover Cleveland (1893-1897)\\n25. William McKinley (1897-1901)\\n26. Theodore Roosevelt (1901-1909)\\n27. William Howard Taft (1909-1913)\\n28. Woodrow Wilson (1913-1921)\\n29. Warren G. Harding (1921-1923)\\n30. Calvin Coolidge (1923-1929)\\n31. Herbert Hoover (1929-1933)\\n32. Franklin D. Roosevelt (1933-1945)\\n33. Harry S. Truman (1945-1953)\\n34. Dwight D. Eisenhower (1953-1961)\\n35. John F. Kennedy (1961-1963)\\n36. Lyndon B. Johnson (1963-1969)\\n37. Richard Nixon (1969-1974)\\n38. Gerald Ford (1974-1977)\\n39. Jimmy Carter (1977-1981)\\n40. Ronald Reagan (1981-1989)\\n41. George H. W. Bush (1989-1993)\\n42. Bill Clinton (1993-2001)\\n43. George W. Bush (2001-2009)\\n44. Barack Obama (2009-2017)\\n45. Donald Trump (2017-2021)\\n46. Joe Biden (2021-present)'"
            ],
            "application/vnd.google.colaboratory.intrinsic+json": {
              "type": "string"
            }
          },
          "metadata": {},
          "execution_count": 25
        }
      ]
    },
    {
      "cell_type": "code",
      "source": [
        "conversation.predict(input = \"What is Python?\")"
      ],
      "metadata": {
        "colab": {
          "base_uri": "https://localhost:8080/",
          "height": 55
        },
        "id": "rHnKlNf2qmcE",
        "outputId": "6f6f5fd1-a199-4568-9471-55f0b9cf6e61"
      },
      "execution_count": 28,
      "outputs": [
        {
          "output_type": "execute_result",
          "data": {
            "text/plain": [
              "'Python is a high-level programming language known for its simplicity and readability. It was created by Guido van Rossum and first released in 1991. Python is widely used in various fields such as web development, data science, artificial intelligence, and more. It has a large standard library and supports multiple programming paradigms, including object-oriented, imperative, and functional programming. Python is also known for its dynamic typing and automatic memory management.'"
            ],
            "application/vnd.google.colaboratory.intrinsic+json": {
              "type": "string"
            }
          },
          "metadata": {},
          "execution_count": 28
        }
      ]
    },
    {
      "cell_type": "code",
      "source": [
        "memory.buffer"
      ],
      "metadata": {
        "colab": {
          "base_uri": "https://localhost:8080/",
          "height": 55
        },
        "id": "dqEQzlP-qmSV",
        "outputId": "ee77dc4d-6234-4388-9c3e-9563b59a44f0"
      },
      "execution_count": 31,
      "outputs": [
        {
          "output_type": "execute_result",
          "data": {
            "text/plain": [
              "'Human: What is Python?\\nAI: Python is a high-level programming language known for its simplicity and readability. It was created by Guido van Rossum and first released in 1991. Python is widely used in various fields such as web development, data science, artificial intelligence, and more. It has a large standard library and supports multiple programming paradigms, including object-oriented, imperative, and functional programming. Python is also known for its dynamic typing and automatic memory management.'"
            ],
            "application/vnd.google.colaboratory.intrinsic+json": {
              "type": "string"
            }
          },
          "metadata": {},
          "execution_count": 31
        }
      ]
    },
    {
      "cell_type": "code",
      "source": [
        "memory.load_memory_variables(m1)"
      ],
      "metadata": {
        "colab": {
          "base_uri": "https://localhost:8080/"
        },
        "id": "F6AIpEE0qmPP",
        "outputId": "7138574f-fa02-4487-a647-946b0f83cfde"
      },
      "execution_count": 30,
      "outputs": [
        {
          "output_type": "execute_result",
          "data": {
            "text/plain": [
              "{'history': 'Human: What is Python?\\nAI: Python is a high-level programming language known for its simplicity and readability. It was created by Guido van Rossum and first released in 1991. Python is widely used in various fields such as web development, data science, artificial intelligence, and more. It has a large standard library and supports multiple programming paradigms, including object-oriented, imperative, and functional programming. Python is also known for its dynamic typing and automatic memory management.'}"
            ]
          },
          "metadata": {},
          "execution_count": 30
        }
      ]
    }
  ]
}