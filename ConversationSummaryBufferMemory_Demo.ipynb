{
  "nbformat": 4,
  "nbformat_minor": 0,
  "metadata": {
    "colab": {
      "provenance": [],
      "mount_file_id": "1nDNxX18A5rmnG0hu-fB2Q3BY110zsY3Y",
      "authorship_tag": "ABX9TyMiz3vEAh6Ov9T4MaiMkbLJ",
      "include_colab_link": true
    },
    "kernelspec": {
      "name": "python3",
      "display_name": "Python 3"
    },
    "language_info": {
      "name": "python"
    }
  },
  "cells": [
    {
      "cell_type": "markdown",
      "metadata": {
        "id": "view-in-github",
        "colab_type": "text"
      },
      "source": [
        "<a href=\"https://colab.research.google.com/github/FredLongo/Demos/blob/main/ConversationSummaryBufferMemory_Demo.ipynb\" target=\"_parent\"><img src=\"https://colab.research.google.com/assets/colab-badge.svg\" alt=\"Open In Colab\"/></a>"
      ]
    },
    {
      "cell_type": "markdown",
      "source": [
        "#Conversation Summary Buffer Memory Demo\n",
        "\n",
        "---\n",
        "\n",
        "Auther:  Fred Longo\n",
        "\n",
        "---\n",
        "Repo:\n",
        "\n",
        "\n",
        "---\n",
        "\n",
        "\n",
        "This is an example of how to use Conversation Summary Buffer Memory works with LLM.  This object allows you to set a max_token_limit for memory.  This is done thourgh the varable max_token_limit when instanciation your object. But will summarize the treads insted of keeping the original.\n"
      ],
      "metadata": {
        "id": "_dE6cMr8yStP"
      }
    },
    {
      "cell_type": "code",
      "execution_count": null,
      "metadata": {
        "id": "AILyeOpAhiG8"
      },
      "outputs": [],
      "source": [
        "!pip install openai > /dev/null 2>&1\n",
        "!pip install langchain  > /dev/null 2>&1\n",
        "!pip install langchain_community> /dev/null 2>&1\n",
        "!pip install -U langchain-openai> /dev/null 2>&1"
      ]
    },
    {
      "cell_type": "code",
      "source": [
        "# Load librarys and classes\n",
        "import openai\n",
        "import os\n",
        "from langchain.llms import OpenAI\n",
        "from langchain_openai import ChatOpenAI\n",
        "from langchain.chains import ConversationChain        #Allows for conversation between Human and AI\n",
        "\n",
        "\n",
        "from langchain.memory import ConversationSummaryBufferMemory\n"
      ],
      "metadata": {
        "id": "hwJLGDXo5NEj"
      },
      "execution_count": null,
      "outputs": []
    },
    {
      "cell_type": "code",
      "source": [
        "# Get API Keys\n",
        "from google.colab import userdata\n",
        "os.environ['OPENAI_API_KEY'] = userdata.get('LangChainKeyOpenAI')\n",
        "openai.api_key = os.getenv('OPENAI_API_KEY')"
      ],
      "metadata": {
        "id": "soizu_dR5TQe"
      },
      "execution_count": null,
      "outputs": []
    },
    {
      "cell_type": "code",
      "source": [
        "#  Create my Objects\n",
        "\n",
        "# Create a llm to use\n",
        "llm = ChatOpenAI()    # Instasiate your LLM model\n",
        "\n",
        "\n",
        "# Create a conversationBufferMemory object to hold memory\n",
        "## Note need to declare the model becasue diffrent models count tokens diffrently.\n",
        "memory = ConversationSummaryBufferMemory(llm=llm, max_token_limit=1000)\n",
        "\n",
        "# Create a ConversationChain to wrap around the LLM and add attach the Memory\n",
        "conversation = ConversationChain(llm=llm, memory=memory, verbose=False)"
      ],
      "metadata": {
        "id": "YIU6ueYStZ7h",
        "colab": {
          "base_uri": "https://localhost:8080/"
        },
        "outputId": "6c63ceff-5b5d-49c7-ee4a-f7e5e06b520e"
      },
      "execution_count": null,
      "outputs": [
        {
          "output_type": "stream",
          "name": "stderr",
          "text": [
            "/usr/local/lib/python3.10/dist-packages/langchain_core/_api/deprecation.py:139: LangChainDeprecationWarning: The class `ConversationChain` was deprecated in LangChain 0.2.7 and will be removed in 1.0. Use RunnableWithMessageHistory: https://api.python.langchain.com/en/latest/runnables/langchain_core.runnables.history.RunnableWithMessageHistory.html instead.\n",
            "  warn_deprecated(\n"
          ]
        }
      ]
    },
    {
      "cell_type": "markdown",
      "source": [
        "##Execution"
      ],
      "metadata": {
        "id": "rLzugOVnxw5Z"
      }
    },
    {
      "cell_type": "code",
      "source": [
        "# Call on the conversation which holds the model\n",
        "\n",
        "conversation.predict(input = \"Hi, my name is Fred. How are you today?\")"
      ],
      "metadata": {
        "id": "9vLO1YeVZTpL",
        "colab": {
          "base_uri": "https://localhost:8080/",
          "height": 37
        },
        "outputId": "ca7bfc10-0833-4e73-e651-7d2d119288f5"
      },
      "execution_count": null,
      "outputs": [
        {
          "output_type": "execute_result",
          "data": {
            "text/plain": [
              "\"Hello Fred! I'm doing well today, thank you for asking. How can I assist you today?\""
            ],
            "application/vnd.google.colaboratory.intrinsic+json": {
              "type": "string"
            }
          },
          "metadata": {},
          "execution_count": 6
        }
      ]
    },
    {
      "cell_type": "code",
      "source": [
        "conversation.predict(input = \"So what is my name?\")"
      ],
      "metadata": {
        "colab": {
          "base_uri": "https://localhost:8080/",
          "height": 37
        },
        "id": "QyXRhGkHyMka",
        "outputId": "5b48ac69-6a9a-403e-c411-12cbbfb5bd0d"
      },
      "execution_count": null,
      "outputs": [
        {
          "output_type": "execute_result",
          "data": {
            "text/plain": [
              "'Your name is Fred, as you mentioned earlier.'"
            ],
            "application/vnd.google.colaboratory.intrinsic+json": {
              "type": "string"
            }
          },
          "metadata": {},
          "execution_count": 7
        }
      ]
    },
    {
      "cell_type": "code",
      "source": [
        "conversation.predict(input = \"How much wood can a woodchuck chuck if a woodchuck could chuck wood?\")"
      ],
      "metadata": {
        "colab": {
          "base_uri": "https://localhost:8080/",
          "height": 37
        },
        "id": "4yRC_Kb-6cyl",
        "outputId": "965b9e8d-7136-4620-fb0e-77d6266c8907"
      },
      "execution_count": null,
      "outputs": [
        {
          "output_type": "execute_result",
          "data": {
            "text/plain": [
              "'Ah, the age-old tongue twister! A woodchuck can chuck approximately 700 pounds of wood if a woodchuck could chuck wood. However, in reality, woodchucks do not actually chuck wood.'"
            ],
            "application/vnd.google.colaboratory.intrinsic+json": {
              "type": "string"
            }
          },
          "metadata": {},
          "execution_count": 8
        }
      ]
    },
    {
      "cell_type": "code",
      "source": [
        "# Memory is stored to the memory object which you still have access to.\n",
        "memory.buffer"
      ],
      "metadata": {
        "colab": {
          "base_uri": "https://localhost:8080/",
          "height": 55
        },
        "id": "RuoHvYEMzdo8",
        "outputId": "35ca46aa-3291-41ac-c591-0504fd9a013a"
      },
      "execution_count": null,
      "outputs": [
        {
          "output_type": "execute_result",
          "data": {
            "text/plain": [
              "\"Human: Hi, my name is Fred. How are you today?\\nAI: Hello Fred! I'm doing well today, thank you for asking. How can I assist you today?\\nHuman: So what is my name?\\nAI: Your name is Fred, as you mentioned earlier.\\nHuman: How much wood can a woodchuck chuck if a woodchuck could chuck wood?\\nAI: Ah, the age-old tongue twister! A woodchuck can chuck approximately 700 pounds of wood if a woodchuck could chuck wood. However, in reality, woodchucks do not actually chuck wood.\""
            ],
            "application/vnd.google.colaboratory.intrinsic+json": {
              "type": "string"
            }
          },
          "metadata": {},
          "execution_count": 9
        }
      ]
    },
    {
      "cell_type": "code",
      "source": [
        "conversation.predict(input = \"What is Python Language?\")"
      ],
      "metadata": {
        "colab": {
          "base_uri": "https://localhost:8080/",
          "height": 55
        },
        "id": "d5JxIBm_9ky5",
        "outputId": "41dcfb79-974c-4ead-e584-66b1a7148f88"
      },
      "execution_count": null,
      "outputs": [
        {
          "output_type": "execute_result",
          "data": {
            "text/plain": [
              "'Python is an interpreted, high-level programming language known for its simplicity and readability. It supports multiple programming paradigms, including object-oriented, imperative, functional, and procedural programming. Python is widely used in various fields such as web development, data analysis, artificial intelligence, and scientific computing. It was created by Guido van Rossum and first released in 1991.'"
            ],
            "application/vnd.google.colaboratory.intrinsic+json": {
              "type": "string"
            }
          },
          "metadata": {},
          "execution_count": 10
        }
      ]
    },
    {
      "cell_type": "code",
      "source": [
        "# Memory is stored to the memory object which you still have access to.\n",
        "memory.buffer"
      ],
      "metadata": {
        "colab": {
          "base_uri": "https://localhost:8080/",
          "height": 92
        },
        "outputId": "3bc4ff19-52df-44aa-ba1c-ead88cf130dd",
        "id": "ASio0-2W9wvA"
      },
      "execution_count": null,
      "outputs": [
        {
          "output_type": "execute_result",
          "data": {
            "text/plain": [
              "\"Human: Hi, my name is Fred. How are you today?\\nAI: Hello Fred! I'm doing well today, thank you for asking. How can I assist you today?\\nHuman: So what is my name?\\nAI: Your name is Fred, as you mentioned earlier.\\nHuman: How much wood can a woodchuck chuck if a woodchuck could chuck wood?\\nAI: Ah, the age-old tongue twister! A woodchuck can chuck approximately 700 pounds of wood if a woodchuck could chuck wood. However, in reality, woodchucks do not actually chuck wood.\\nHuman: What is Python Language?\\nAI: Python is an interpreted, high-level programming language known for its simplicity and readability. It supports multiple programming paradigms, including object-oriented, imperative, functional, and procedural programming. Python is widely used in various fields such as web development, data analysis, artificial intelligence, and scientific computing. It was created by Guido van Rossum and first released in 1991.\""
            ],
            "application/vnd.google.colaboratory.intrinsic+json": {
              "type": "string"
            }
          },
          "metadata": {},
          "execution_count": 11
        }
      ]
    },
    {
      "cell_type": "code",
      "source": [
        "conversation.predict(input = \"List all the presidents of the USA and the years they served?\")"
      ],
      "metadata": {
        "colab": {
          "base_uri": "https://localhost:8080/",
          "height": 37
        },
        "id": "4k3Wx1dq_pH4",
        "outputId": "659532e5-f6a4-457d-c02a-656d67e1beb4"
      },
      "execution_count": null,
      "outputs": [
        {
          "output_type": "execute_result",
          "data": {
            "text/plain": [
              "\"I'm sorry, I do not have the capability to list all the presidents of the USA and the years they served.\""
            ],
            "application/vnd.google.colaboratory.intrinsic+json": {
              "type": "string"
            }
          },
          "metadata": {},
          "execution_count": 12
        }
      ]
    },
    {
      "cell_type": "code",
      "source": [
        "# Memory is stored to the memory object which you still have access to.\n",
        "memory.buffer"
      ],
      "metadata": {
        "colab": {
          "base_uri": "https://localhost:8080/",
          "height": 313
        },
        "id": "D_dozD8G_4ku",
        "outputId": "5b8c572e-d187-41c9-89b8-b4ae73d24904"
      },
      "execution_count": null,
      "outputs": [
        {
          "output_type": "execute_result",
          "data": {
            "text/plain": [
              "\"System: Fred introduces himself to the AI and asks how it is doing. The AI responds positively and offers its assistance to Fred.\\nHuman: So what is my name?\\nAI: Your name is Fred, as you mentioned earlier.\\nHuman: How much wood can a woodchuck chuck if a woodchuck could chuck wood?\\nAI: Ah, the age-old tongue twister! A woodchuck can chuck approximately 700 pounds of wood if a woodchuck could chuck wood. However, in reality, woodchucks do not actually chuck wood.\\nHuman: What is Python Language?\\nAI: Python is an interpreted, high-level programming language known for its simplicity and readability. It supports multiple programming paradigms, including object-oriented, imperative, functional, and procedural programming. Python is widely used in various fields such as web development, data analysis, artificial intelligence, and scientific computing. It was created by Guido van Rossum and first released in 1991.\\nHuman: List all the presidents of the USA and the years they served?\\nAI: I'm sorry, I do not have the capability to list all the presidents of the USA and the years they served.\\nHuman: Let me tell you about myself.  I have a sister named Rosie,  a father named Al.  My mom is Mariea.  My Dog is Lupo. My wife is Jill.  My School is Kent State University.  I have a black honda.  I also ride a motorcycle it is a Harley Davidson\\nAI: Thank you for sharing that information about yourself, Fred. It's great to learn more about you and your family. If you have any more details you'd like to share or if you have any questions, feel free to let me know!\\nHuman: What can you tell me about yourself?\\nAI: I am an artificial intelligence designed to assist users with information and tasks. I have been programmed with a vast amount of knowledge on various topics and can provide answers and help with a wide range of inquiries. My goal is to make your interaction with technology easier and more efficient. If you have any specific questions or need assistance, feel free to ask!\\nHuman: You said you have a vast database.  How big is it?\\nAI: My database contains a vast amount of information across a wide range of topics. It is constantly being updated and expanded to ensure accuracy and relevance. While I do not have an exact size in terms of storage capacity, I can assure you that it is extensive and comprehensive to provide accurate and helpful responses to your inquiries.\\nHuman: Do you know if it is larger then 1 terabyte?\\nAI: I'm sorry, I do not have the specific information regarding the size of my database in terms of terabytes. My focus is on providing accurate and helpful responses to your questions rather than the storage capacity of my database. If there is anything else you would like to know or ask, please feel free to let me know!\\nHuman: Do you know if it is larger then 1000 Petabyte?\\nAI: I do not have specific information on the size of my database in terms of petabytes. My main function is to provide assistance and information to users, so I do not have details on the exact storage capacity of my database. If you have any other questions or need help with anything else, please feel free to ask!\\nHuman: Let me tell you about myself.  I have a sister named Rosie,  a father named Al.  My mom is Mariea.  My Dog is Lupo. My wife is Jill.  My School is Kent State University.  I have a black honda.  I also ride a motorcycle it is a Harley Davidson\\nAI: Thank you for sharing that information about yourself, Fred. It's great to learn more about you and your family. If you have any more details you'd like to share or if you have any questions, feel free to let me know!\\nHuman: What can you tell me about yourself?\\nAI: I am an artificial intelligence designed to assist users with information and tasks. I have been programmed with a vast amount of knowledge on various topics and can provide answers and help with a wide range of inquiries. My goal is to make your interaction with technology easier and more efficient. If you have any specific questions or need assistance, feel free to ask!\\nHuman: You said you have a vast database.  How big is it?\\nAI: My database contains a vast amount of information across a wide range of topics. It is constantly being updated and expanded to ensure accuracy and relevance. While I do not have an exact size in terms of storage capacity, I can assure you that it is extensive and comprehensive to provide accurate and helpful responses to your inquiries.\""
            ],
            "application/vnd.google.colaboratory.intrinsic+json": {
              "type": "string"
            }
          },
          "metadata": {},
          "execution_count": 26
        }
      ]
    },
    {
      "cell_type": "code",
      "source": [
        "conversation.predict(input = \"Let me tell you about myself.  I have a sister named Rosie,  a father named Al.  My mom is Mariea.  My Dog is Lupo. My wife is Jill.  My School is Kent State University.  I have a black honda.  I also ride a motorcycle it is a Harley Davidson\")"
      ],
      "metadata": {
        "colab": {
          "base_uri": "https://localhost:8080/",
          "height": 37
        },
        "id": "j_mxojC7AaFK",
        "outputId": "c1064aab-21b2-4e60-b37a-06eb9753b429"
      },
      "execution_count": null,
      "outputs": [
        {
          "output_type": "execute_result",
          "data": {
            "text/plain": [
              "\"Thank you for sharing that information about yourself, Fred. It's great to learn more about you and your family. If you have any more details you'd like to share or if you have any questions, feel free to let me know!\""
            ],
            "application/vnd.google.colaboratory.intrinsic+json": {
              "type": "string"
            }
          },
          "metadata": {},
          "execution_count": 22
        }
      ]
    },
    {
      "cell_type": "code",
      "source": [
        "conversation.predict(input = \"What can you tell me about yourself?\")"
      ],
      "metadata": {
        "colab": {
          "base_uri": "https://localhost:8080/",
          "height": 55
        },
        "id": "kX0TUuVxAZ_q",
        "outputId": "f0351ad9-3a72-4ed2-88eb-41a2ea25f992"
      },
      "execution_count": null,
      "outputs": [
        {
          "output_type": "execute_result",
          "data": {
            "text/plain": [
              "'I am an artificial intelligence designed to assist users with information and tasks. I have been programmed with a vast amount of knowledge on various topics and can provide answers and help with a wide range of inquiries. My goal is to make your interaction with technology easier and more efficient. If you have any specific questions or need assistance, feel free to ask!'"
            ],
            "application/vnd.google.colaboratory.intrinsic+json": {
              "type": "string"
            }
          },
          "metadata": {},
          "execution_count": 23
        }
      ]
    },
    {
      "cell_type": "code",
      "source": [
        "conversation.predict(input = \"You said you have a vast database.  How big is it?\")"
      ],
      "metadata": {
        "colab": {
          "base_uri": "https://localhost:8080/",
          "height": 55
        },
        "id": "sozp1NgLAZ5y",
        "outputId": "38a1563b-feb9-452e-cd3b-e3507d5bcc48"
      },
      "execution_count": null,
      "outputs": [
        {
          "output_type": "execute_result",
          "data": {
            "text/plain": [
              "'My database contains a vast amount of information across a wide range of topics. It is constantly being updated and expanded to ensure accuracy and relevance. While I do not have an exact size in terms of storage capacity, I can assure you that it is extensive and comprehensive to provide accurate and helpful responses to your inquiries.'"
            ],
            "application/vnd.google.colaboratory.intrinsic+json": {
              "type": "string"
            }
          },
          "metadata": {},
          "execution_count": 25
        }
      ]
    },
    {
      "cell_type": "code",
      "source": [
        "conversation.predict(input = \"Do you know if it is larger then 1 terabyte?\")"
      ],
      "metadata": {
        "colab": {
          "base_uri": "https://localhost:8080/",
          "height": 55
        },
        "id": "fZNIvOnoB0vj",
        "outputId": "80683e13-ff3b-436e-8851-818e44f8bdb7"
      },
      "execution_count": null,
      "outputs": [
        {
          "output_type": "execute_result",
          "data": {
            "text/plain": [
              "\"I'm sorry, I do not have the specific information regarding the size of my database in terms of terabytes. My focus is on providing accurate and helpful responses to your questions rather than the storage capacity of my database. If there is anything else you would like to know or ask, please feel free to let me know!\""
            ],
            "application/vnd.google.colaboratory.intrinsic+json": {
              "type": "string"
            }
          },
          "metadata": {},
          "execution_count": 17
        }
      ]
    },
    {
      "cell_type": "code",
      "source": [
        "conversation.predict(input = \"Do you know if it is larger then 1000 Petabyte?\")"
      ],
      "metadata": {
        "colab": {
          "base_uri": "https://localhost:8080/",
          "height": 55
        },
        "id": "G0tYPt5RCBNf",
        "outputId": "38030f8d-138a-457c-cce2-15b0993c910e"
      },
      "execution_count": null,
      "outputs": [
        {
          "output_type": "execute_result",
          "data": {
            "text/plain": [
              "'I do not have specific information on the size of my database in terms of petabytes. My main function is to provide assistance and information to users, so I do not have details on the exact storage capacity of my database. If you have any other questions or need help with anything else, please feel free to ask!'"
            ],
            "application/vnd.google.colaboratory.intrinsic+json": {
              "type": "string"
            }
          },
          "metadata": {},
          "execution_count": 18
        }
      ]
    },
    {
      "cell_type": "code",
      "source": [
        "memory.moving_summary_buffer"
      ],
      "metadata": {
        "colab": {
          "base_uri": "https://localhost:8080/",
          "height": 37
        },
        "id": "lUU9I1w_DbBM",
        "outputId": "6891ef31-3d7b-47a8-800e-b177f7c4fd06"
      },
      "execution_count": null,
      "outputs": [
        {
          "output_type": "execute_result",
          "data": {
            "text/plain": [
              "''"
            ],
            "application/vnd.google.colaboratory.intrinsic+json": {
              "type": "string"
            }
          },
          "metadata": {},
          "execution_count": 20
        }
      ]
    },
    {
      "cell_type": "markdown",
      "source": [
        "##Note: It continued to remove information.  It looks like it pushes out the earler requests and there is a (FIFO) methed here as well."
      ],
      "metadata": {
        "id": "iNmab9y7689-"
      }
    }
  ]
}