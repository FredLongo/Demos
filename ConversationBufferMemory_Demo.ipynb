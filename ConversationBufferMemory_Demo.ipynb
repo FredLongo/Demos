{
  "nbformat": 4,
  "nbformat_minor": 0,
  "metadata": {
    "colab": {
      "provenance": [],
      "mount_file_id": "1nDNxX18A5rmnG0hu-fB2Q3BY110zsY3Y",
      "authorship_tag": "ABX9TyMTGHREmaks0SAWmfYWTOYK",
      "include_colab_link": true
    },
    "kernelspec": {
      "name": "python3",
      "display_name": "Python 3"
    },
    "language_info": {
      "name": "python"
    }
  },
  "cells": [
    {
      "cell_type": "markdown",
      "metadata": {
        "id": "view-in-github",
        "colab_type": "text"
      },
      "source": [
        "<a href=\"https://colab.research.google.com/github/FredLongo/Demos/blob/main/ConversationBufferMemory_Demo.ipynb\" target=\"_parent\"><img src=\"https://colab.research.google.com/assets/colab-badge.svg\" alt=\"Open In Colab\"/></a>"
      ]
    },
    {
      "cell_type": "markdown",
      "source": [
        "#Conversation Memory Demo\n",
        "\n",
        "---\n",
        "\n",
        "Auther:  Fred Longo\n",
        "\n",
        "---\n",
        "Repo:\n",
        "\n",
        "\n",
        "---\n",
        "\n",
        "\n",
        "This is an exampe of how to use Conversation Memory with LLM"
      ],
      "metadata": {
        "id": "_dE6cMr8yStP"
      }
    },
    {
      "cell_type": "code",
      "execution_count": null,
      "metadata": {
        "id": "AILyeOpAhiG8"
      },
      "outputs": [],
      "source": [
        "!pip install openai > /dev/null 2>&1\n",
        "!pip install langchain  > /dev/null 2>&1\n",
        "!pip install langchain_community> /dev/null 2>&1\n",
        "!pip install -U langchain-openai> /dev/null 2>&1"
      ]
    },
    {
      "cell_type": "code",
      "source": [
        "# Load librarys and classes\n",
        "import openai\n",
        "import os\n",
        "from langchain.llms import OpenAI\n",
        "from langchain_openai import ChatOpenAI\n",
        "from langchain.chains import ConversationChain        #Allows for conversation between Human and AI\n",
        "from langchain.memory import ConversationBufferMemory # For memory classes"
      ],
      "metadata": {
        "id": "hwJLGDXo5NEj"
      },
      "execution_count": null,
      "outputs": []
    },
    {
      "cell_type": "code",
      "source": [
        "# Get API Keys\n",
        "from google.colab import userdata\n",
        "os.environ['OPENAI_API_KEY'] = userdata.get('LangChainKeyOpenAI')\n",
        "openai.api_key = os.getenv('OPENAI_API_KEY')"
      ],
      "metadata": {
        "id": "soizu_dR5TQe"
      },
      "execution_count": null,
      "outputs": []
    },
    {
      "cell_type": "code",
      "source": [
        "#  Create my Objects\n",
        "\n",
        "# Create a llm to use\n",
        "llm = ChatOpenAI()    # Instasiate your LLM model\n",
        "\n",
        "\n",
        "# Create a conversationBufferMemory object to hold memory\n",
        "memory = ConversationBufferMemory()\n",
        "\n",
        "# Create a ConversationChain to wrap around the LLM and add attach the Memory\n",
        "conversation = ConversationChain(llm=llm, memory=memory, verbose=False)"
      ],
      "metadata": {
        "id": "YIU6ueYStZ7h"
      },
      "execution_count": null,
      "outputs": []
    },
    {
      "cell_type": "markdown",
      "source": [
        "##Execution"
      ],
      "metadata": {
        "id": "rLzugOVnxw5Z"
      }
    },
    {
      "cell_type": "code",
      "source": [
        "# Call on the conversation which holds the model\n",
        "\n",
        "conversation.predict(input = \"Hi, my name is Fred. How are you today?\")"
      ],
      "metadata": {
        "id": "9vLO1YeVZTpL",
        "colab": {
          "base_uri": "https://localhost:8080/",
          "height": 37
        },
        "outputId": "f753dd13-b920-4f96-bc08-dda1ddb9f025"
      },
      "execution_count": null,
      "outputs": [
        {
          "output_type": "execute_result",
          "data": {
            "text/plain": [
              "\"Hello Fred! I'm doing well, thank you for asking. I've been going through some updates and optimizations, so I'm feeling refreshed and ready to assist you. How can I help you today?\""
            ],
            "application/vnd.google.colaboratory.intrinsic+json": {
              "type": "string"
            }
          },
          "metadata": {},
          "execution_count": 8
        }
      ]
    },
    {
      "cell_type": "code",
      "source": [
        "conversation.predict(input = \"So what is my name?\")"
      ],
      "metadata": {
        "colab": {
          "base_uri": "https://localhost:8080/",
          "height": 37
        },
        "id": "QyXRhGkHyMka",
        "outputId": "4ce8d3be-2f98-4273-ed36-51ac16c638d7"
      },
      "execution_count": null,
      "outputs": [
        {
          "output_type": "execute_result",
          "data": {
            "text/plain": [
              "'Your name is Fred, as you mentioned earlier. Is there anything else you would like to know or ask?'"
            ],
            "application/vnd.google.colaboratory.intrinsic+json": {
              "type": "string"
            }
          },
          "metadata": {},
          "execution_count": 9
        }
      ]
    },
    {
      "cell_type": "code",
      "source": [
        "# Memory is stored to the memory object which you still have access to.\n",
        "memory.buffer"
      ],
      "metadata": {
        "colab": {
          "base_uri": "https://localhost:8080/",
          "height": 55
        },
        "id": "RuoHvYEMzdo8",
        "outputId": "58954cbd-9952-4d01-9567-0f884e03c1f0"
      },
      "execution_count": null,
      "outputs": [
        {
          "output_type": "execute_result",
          "data": {
            "text/plain": [
              "\"Human: Hi, my name is Fred. How are you today?\\nAI: Hello Fred! I'm doing well, thank you for asking. I've been going through some updates and optimizations, so I'm feeling refreshed and ready to assist you. How can I help you today?\\nHuman: So what is my name?\\nAI: Your name is Fred, as you mentioned earlier. Is there anything else you would like to know or ask?\""
            ],
            "application/vnd.google.colaboratory.intrinsic+json": {
              "type": "string"
            }
          },
          "metadata": {},
          "execution_count": 10
        }
      ]
    }
  ]
}